{
  "nbformat": 4,
  "nbformat_minor": 0,
  "metadata": {
    "colab": {
      "name": "análise_exploratria",
      "provenance": [],
      "authorship_tag": "ABX9TyO+d9ugufrSw8mcTlCvjQwG"
    },
    "kernelspec": {
      "name": "python3",
      "display_name": "Python 3"
    },
    "language_info": {
      "name": "python"
    }
  },
  "cells": [
    {
      "cell_type": "markdown",
      "metadata": {
        "id": "sB68SQYDJ3Qs"
      },
      "source": [
        ""
      ]
    }
  ]
}